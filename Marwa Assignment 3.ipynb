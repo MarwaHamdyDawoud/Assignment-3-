{
 "cells": [
  {
   "cell_type": "markdown",
   "metadata": {},
   "source": [
    "# Assignment 3"
   ]
  },
  {
   "cell_type": "markdown",
   "metadata": {},
   "source": [
    "### Write a function to count the number 4 in a given list."
   ]
  },
  {
   "cell_type": "code",
   "execution_count": null,
   "metadata": {},
   "outputs": [],
   "source": [
    "def count_the_number_4 (nums):\n",
    "    count=0\n",
    "    for num in (nums):\n",
    "        if num==4:\n",
    "            count=count + 1\n",
    "    return count\n",
    "            \n",
    "count_the_number_4 ([1, 7, 8, 4, 8, 4, 7, 0, 4])\n",
    "    "
   ]
  },
  {
   "cell_type": "markdown",
   "metadata": {},
   "source": [
    "### write a  function to check whether a number is divisible by another number."
   ]
  },
  {
   "cell_type": "code",
   "execution_count": null,
   "metadata": {},
   "outputs": [],
   "source": [
    "def divisibility (x,y):\n",
    "    for i in(x,y):\n",
    "        if x%y==0:\n",
    "            return (x, \"is divisible by\", y)\n",
    "        else:\n",
    "            return (x, \"is not divisible by\", y)\n",
    "    \n",
    "print (divisibility (4,2))\n",
    "print (divisibility (10, 3))"
   ]
  },
  {
   "cell_type": "markdown",
   "metadata": {},
   "source": [
    "### write a function to find the maximum and minimum numbers from a sequence of numbers."
   ]
  },
  {
   "cell_type": "code",
   "execution_count": null,
   "metadata": {},
   "outputs": [],
   "source": [
    "Question= input (\"Enter your numbers, separated by a space: \")\n",
    "\n",
    "def valuesss (Question):\n",
    "    splitted=Question.split()\n",
    "    \n",
    "    integer_list=[eval (i) for i in splitted]\n",
    "    \n",
    "    final= sorted (integer_list)\n",
    "    \n",
    "    final_list=list (final)\n",
    "    \n",
    "    for i in (final_list):\n",
    "        \n",
    "        x = (final_list[-1])\n",
    "        y = (final_list[0])\n",
    "        return (\"The maximum number is:\", x, \"while the minimum number is:\", y)\n",
    "valuesss (Question)\n"
   ]
  },
  {
   "cell_type": "markdown",
   "metadata": {},
   "source": [
    "### Write a Python function that takes two lists and returns True if they have at least one common member."
   ]
  },
  {
   "cell_type": "code",
   "execution_count": null,
   "metadata": {},
   "outputs": [],
   "source": [
    "\n",
    "def common_number (lsit1, list2):\n",
    "    List1=(list (input (\"write your first group of numbers: \")))\n",
    "    List2=(list (input (\"write your second group of numbers: \")))\n",
    "    for i in List1:\n",
    "        for x in List2:\n",
    "                if i==x:\n",
    "                    return True\n",
    "                else: return False    \n",
    "common_number (List1, List2)"
   ]
  },
  {
   "cell_type": "markdown",
   "metadata": {},
   "source": [
    "### Write a Python function to calculate the factorial of a number (a non-negative integer). The function accepts the number from the user"
   ]
  },
  {
   "cell_type": "code",
   "execution_count": null,
   "metadata": {},
   "outputs": [],
   "source": [
    "Number=int (input (\"Choose a number: \"))\n",
    "def factorial_of_the_number (num):\n",
    "    if num== 1:\n",
    "        return num\n",
    "    else:\n",
    "        return num* factorial_of_the_number (num-1)\n",
    "factorial_of_the_number (Number)"
   ]
  },
  {
   "cell_type": "markdown",
   "metadata": {},
   "source": [
    "### Write a Python function to check whether a number is in a given range.\n",
    "\n",
    "### The range is from 3 to 11\n"
   ]
  },
  {
   "cell_type": "code",
   "execution_count": null,
   "metadata": {},
   "outputs": [],
   "source": [
    "def checked_number (x):\n",
    "    if x in range (3,12):\n",
    "        return (\"The number is inside range of 3 to 11.\")\n",
    "    else:\n",
    "        return (\"The number is outside range of 3 to 11.\")        \n",
    "checked_number (33)"
   ]
  },
  {
   "cell_type": "markdown",
   "metadata": {},
   "source": [
    "### Write a  program to create the multiplication table (from 1 to 10) of a number."
   ]
  },
  {
   "cell_type": "code",
   "execution_count": null,
   "metadata": {},
   "outputs": [],
   "source": [
    "def multiplication_table(x):\n",
    "    for i in range (1,11):\n",
    "        print (x, \"*\", i, \"=\", x*i)\n",
    "multiplication_table (7)"
   ]
  },
  {
   "cell_type": "markdown",
   "metadata": {},
   "source": [
    "#### LESSER OF TWO EVENS: Write a function that returns the lesser of two given numbers *if* both numbers are even, but returns the greater if one or both numbers are odd\n",
    "    lesser_of_two_evens(2,4) --> 2\n",
    "    lesser_of_two_evens(2,5) --> 5"
   ]
  },
  {
   "cell_type": "code",
   "execution_count": null,
   "metadata": {},
   "outputs": [],
   "source": [
    "def Lesser_of_two_evens (x, y):\n",
    "    if (x%2 == 0):\n",
    "        if (y%2==0):\n",
    "            if x>y:\n",
    "                return (y, \"is the number\")\n",
    "            if x<y:\n",
    "                return (x, \"is the number\")\n",
    "    elif (x%2!=0 or y%2!=0):\n",
    "        if x>y:\n",
    "                return (x, \"is the number\")\n",
    "        if x<y:\n",
    "                return (y, \"is the number\")\n",
    "    \n",
    "Lesser_of_two_evens (2, 4)"
   ]
  },
  {
   "cell_type": "markdown",
   "metadata": {},
   "source": [
    "#### ANIMAL CRACKERS: Write a function takes a two-word string and returns True if both words begin with same letter\n",
    "    animal_crackers('Levelheaded Llama') --> True\n",
    "    animal_crackers('Crazy Kangaroo') --> False"
   ]
  },
  {
   "cell_type": "code",
   "execution_count": null,
   "metadata": {},
   "outputs": [],
   "source": [
    "two_words=(input (\"enter any 2 words:\"))\n",
    "def animal_crackers (twowords):\n",
    "    two_wordy= two_words.split()\n",
    "    two_wordss= list (two_wordy)\n",
    "    if two_wordss[0][0]==two_wordss[1][0]:\n",
    "        return True\n",
    "animal_crackers (two_words)"
   ]
  },
  {
   "cell_type": "markdown",
   "metadata": {},
   "source": [
    "#### MAKES TWENTY: Given two integers, return True if the sum of the integers is 20 *or* if one of the integers is 20. If not, return False\n",
    "\n",
    "    makes_twenty(20,10) --> True\n",
    "    makes_twenty(12,8) --> True\n",
    "    makes_twenty(2,3) --> False"
   ]
  },
  {
   "cell_type": "code",
   "execution_count": null,
   "metadata": {},
   "outputs": [],
   "source": [
    "def makes_twenty (x, y):\n",
    "    if x+y==20 or x==20 or y==20:\n",
    "        return True\n",
    "    else:\n",
    "        return False\n",
    "print (makes_twenty (20, 10))\n",
    "print (makes_twenty (12, 8))\n",
    "print (makes_twenty (2, 3))"
   ]
  },
  {
   "cell_type": "markdown",
   "metadata": {},
   "source": [
    "#### ALMOST THERE: Given an integer n, return True if n is within 10 of either 100 or 200\n",
    "\n",
    "    almost_there(90) --> True\n",
    "    almost_there(104) --> True\n",
    "    almost_there(150) --> False\n",
    "    almost_there(209) --> True\n",
    "    \n",
    "NOTE: `abs(num)` returns the absolute value of a number"
   ]
  },
  {
   "cell_type": "code",
   "execution_count": null,
   "metadata": {},
   "outputs": [],
   "source": [
    "def almost_there (n):\n",
    "    if n in range(90,111) or n in range(190, 211):\n",
    "        return True\n",
    "    else:\n",
    "        return False\n",
    "print (almost_there (90))\n",
    "print (almost_there (104))\n",
    "print (almost_there (150))\n",
    "print (almost_there (209))"
   ]
  },
  {
   "cell_type": "markdown",
   "metadata": {},
   "source": [
    "#### BLACKJACK: Given three integers between 1 and 11, if their sum is less than or equal to 21, return their sum. If their sum exceeds 21 *and* there's an eleven, reduce the total sum by 10. Finally, if the sum  exceeds 21, return 'BUST'\n",
    "    blackjack(5,6,7) --> 18\n",
    "    blackjack(9,9,9) --> 'BUST'\n",
    "    blackjack(9,9,11) --> 19"
   ]
  },
  {
   "cell_type": "code",
   "execution_count": null,
   "metadata": {},
   "outputs": [],
   "source": [
    "def blackjack (x, y, z):\n",
    "    if x+y+z<=21:\n",
    "        return x+y+z\n",
    "    elif x+y+z> 21 and 11 in (x, y, z):\n",
    "        return x+y+z-10\n",
    "    elif x+y+x>21:\n",
    "        return (\"Bust\")\n",
    "print (blackjack (5, 6, 7))\n",
    "print (blackjack (9, 9, 11))\n",
    "print (blackjack (9, 9, 9))"
   ]
  },
  {
   "cell_type": "code",
   "execution_count": null,
   "metadata": {},
   "outputs": [],
   "source": []
  }
 ],
 "metadata": {
  "kernelspec": {
   "display_name": "Python 3 (ipykernel)",
   "language": "python",
   "name": "python3"
  },
  "language_info": {
   "codemirror_mode": {
    "name": "ipython",
    "version": 3
   },
   "file_extension": ".py",
   "mimetype": "text/x-python",
   "name": "python",
   "nbconvert_exporter": "python",
   "pygments_lexer": "ipython3",
   "version": "3.9.12"
  }
 },
 "nbformat": 4,
 "nbformat_minor": 2
}
